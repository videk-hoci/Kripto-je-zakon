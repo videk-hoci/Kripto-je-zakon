{
 "cells": [
  {
   "cell_type": "markdown",
   "metadata": {},
   "source": [
    "# Analiza kripto trga s pomočjo CoinGecka\n",
    "\n",
    "## 1. Uvod\n",
    "\n",
    "Za projektno nalogo sem analiziral kripto trg s pomočjo podatkov pridobljenih na spletni strani [coingecko.com](https://www.coingecko.com/). Iz mojih izkušenj CoinGecko poda najbolj verodostojne informacije o posamzenih kovancih **različnih** blockchainov, ki zajemajo tako decentralizirane kot centralizirane menjalnice. Pomembno je omeniti, da so podatki pridobljeni dne 30. oktobra 2024 od 16.46 do 16.59 (program potrebuje nekaj časa, da pridobi vse podatke) in da je zbranih prvih 10000 kovancev (rangiranih po Market capu, nato po volumnu).\n",
    "\n",
    "Program pobere naslednje podatke v tem vrstnem redu:\n",
    "- mesto po market capu (Rank)\n",
    "- ime (Name)\n",
    "- simbol kovanca (Symbol)\n",
    "- ceno (Price)\n",
    "- Market cap\n",
    "- Fully Diluted Valuation (FDV)\n",
    "- Spremembo cene (24h Change, 7 Days change, 1h Change) "
   ]
  },
  {
   "cell_type": "markdown",
   "metadata": {},
   "source": [
    "# 2. Analiza"
   ]
  },
  {
   "cell_type": "code",
   "execution_count": null,
   "metadata": {
    "vscode": {
     "languageId": "plaintext"
    }
   },
   "outputs": [],
   "source": [
    "import pandas as pd\n",
    "\n",
    "kovanci = pd.read_csv('coin_list.csv')\n",
    "pd.set_option(\"display.max_rows\", 30)"
   ]
  },
  {
   "cell_type": "markdown",
   "metadata": {},
   "source": [
    "Preizkus"
   ]
  }
 ],
 "metadata": {
  "language_info": {
   "name": "python"
  }
 },
 "nbformat": 4,
 "nbformat_minor": 2
}
